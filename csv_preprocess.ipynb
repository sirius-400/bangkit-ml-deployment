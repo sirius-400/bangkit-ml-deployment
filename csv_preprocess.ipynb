{
 "cells": [
  {
   "cell_type": "markdown",
   "id": "3616222e",
   "metadata": {},
   "source": [
    "# Konfigurasi Awal\n",
    "Bagian konfigurasi awal untuk mendapatkan file input,\n",
    "## Download from google cloud storage\n",
    "Semua file input maupun output disimpan di cloud storage\n",
    "### Nama file\n",
    "file input: data/input-latest.csv\n",
    "file output: data/output-latest.json\n",
    "> Boleh juga jika modelnya ingin diexport\n",
    "#### File input dikoleksi setiap hari dengan format input-timestamp.csv"
   ]
  },
  {
   "cell_type": "code",
   "execution_count": 3,
   "id": "7e623788",
   "metadata": {},
   "outputs": [],
   "source": [
    "import os\n",
    "import glob\n",
    "import pandas as pd\n",
    "from datetime import datetime"
   ]
  },
  {
   "cell_type": "code",
   "execution_count": 11,
   "id": "8c95c967",
   "metadata": {},
   "outputs": [
    {
     "name": "stdout",
     "output_type": "stream",
     "text": [
      "Requirement already satisfied: python-dotenv in /opt/conda/lib/python3.7/site-packages (0.17.1)\n"
     ]
    }
   ],
   "source": [
    "import sys\n",
    "!{sys.executable} -m pip install python-dotenv"
   ]
  },
  {
   "cell_type": "code",
   "execution_count": 4,
   "id": "7eff0a66",
   "metadata": {},
   "outputs": [],
   "source": [
    "from dotenv import load_dotenv\n",
    "\n",
    "load_dotenv() \n",
    "os.environ[\"TFVERSION\"] = \"2.5\"\n",
    "os.environ[\"PYTHONVERSION\"] = \"3.7\""
   ]
  },
  {
   "cell_type": "code",
   "execution_count": 46,
   "id": "ae2b4740",
   "metadata": {},
   "outputs": [],
   "source": [
    "%%bash\n",
    "\n",
    "mkdir -p data\n",
    "gsutil -q -m cp gs://$BUCKET_NAME/data/input* data/"
   ]
  },
  {
   "cell_type": "code",
   "execution_count": 54,
   "id": "db71f03c",
   "metadata": {},
   "outputs": [
    {
     "name": "stdout",
     "output_type": "stream",
     "text": [
      "['data/input-1622264519104.csv', 'data/input-1622350805158.csv', 'data/input-1622437205217.csv', 'data/input-1622523605201.csv']\n"
     ]
    },
    {
     "data": {
      "text/plain": [
       "False"
      ]
     },
     "execution_count": 54,
     "metadata": {},
     "output_type": "execute_result"
    }
   ],
   "source": [
    "inputList = sorted(glob.glob('data/input-1*.csv'))\n",
    "print(inputList)\n",
    "isOk = glob.glob('data/input-aafsa.csv')\n",
    "not inputList"
   ]
  },
  {
   "cell_type": "code",
   "execution_count": 191,
   "id": "bec3d2af",
   "metadata": {},
   "outputs": [],
   "source": [
    "def read_csv_add_date(path, isNeedParse=True):\n",
    "    csvData = pd.read_csv(path)\n",
    "    if isNeedParse:\n",
    "        csvData[\"date\"] = pd.to_datetime(\n",
    "            datetime.fromtimestamp(\n",
    "                int(path.split(\"-\")[-1][:-4])//1000\n",
    "            ))\n",
    "    return csvData"
   ]
  },
  {
   "cell_type": "code",
   "execution_count": 201,
   "id": "ec421925",
   "metadata": {},
   "outputs": [],
   "source": [
    "def preprocess_merge():\n",
    "    isMergedDatasetExist = glob.glob('data/input-preprocessed.csv')\n",
    "    listOfDatasets = sorted(glob.glob('data/input-1*.csv'))\n",
    "    if not isMergedDatasetExist:\n",
    "        df_merge = pd.DataFrame()\n",
    "        for i, dataset in enumerate(listOfDatasets[:-1]):\n",
    "            df1 = read_csv_add_date(listOfDatasets[i])\n",
    "            df2 = read_csv_add_date(listOfDatasets[i+1])\n",
    "            df2[\"visitor\"] = df2[\"visitor\"].sub(df1[\"visitor\"])\n",
    "            if (i == 0):\n",
    "                df_merge = df_merge.append(df1, ignore_index = True)\n",
    "            df_merge = df_merge.append(df2, ignore_index = True)\n",
    "            df_merge.head(10);\n",
    "            \n",
    "        df_merge = df_merge.sort_values(\n",
    "            [\"id\", \"date\"], ascending = (True, True))\n",
    "        df_merge[\"date\"] = pd.to_datetime(\n",
    "            df_merge.date).dt.strftime(\"%-d/%-m/%Y %-H:%M\")\n",
    "        \n",
    "        df_merge.to_csv(\"data/input-preprocessed.csv\", index=False)\n",
    "#         display(df_merge.head())\n",
    "        \n",
    "    else:\n",
    "        df_merge = read_csv_add_date('data/input-preprocessed.csv', isNeedParse=False)\n",
    "        df_merge[\"date\"] = pd.to_datetime(\n",
    "            df_merge.date)\n",
    "        \n",
    "        df_to_merge = read_csv_add_date(\n",
    "            listOfDatasets[-1]) # read previous cumulative dump\n",
    "        df_to_sub = read_csv_add_date(\n",
    "            listOfDatasets[-2]) # read previous 2 cumulative dump\n",
    "        \n",
    "        df_to_merge[\"visitor\"] = df_to_merge[\"visitor\"].sub(df_to_sub[\"visitor\"]) # get non-cumulative visitor sum\n",
    "        \n",
    "        df_merge = df_merge.append(\n",
    "            df_to_merge, ignore_index = True)\n",
    "        df_merge = df_merge.sort_values(\n",
    "            [\"id\", \"date\"], ascending = (True, True))\n",
    "        \n",
    "        df_merge[\"date\"] = pd.to_datetime(\n",
    "            df_merge.date).dt.strftime(\"%-d/%-m/%Y %-H:%M\")\n",
    "        df_merge.to_csv(\"data/input-preprocessed.csv\", index=False)\n",
    "#         display(df_merge.head())"
   ]
  },
  {
   "cell_type": "code",
   "execution_count": 202,
   "id": "cf509fcd",
   "metadata": {},
   "outputs": [],
   "source": [
    "preprocess_merge()"
   ]
  },
  {
   "cell_type": "code",
   "execution_count": 97,
   "id": "30b431ee",
   "metadata": {},
   "outputs": [
    {
     "data": {
      "text/plain": [
       "['data/input-1622264519104.csv',\n",
       " 'data/input-1622350805158.csv',\n",
       " 'data/input-1622437205217.csv',\n",
       " 'data/input-1622523605201.csv']"
      ]
     },
     "metadata": {},
     "output_type": "display_data"
    },
    {
     "data": {
      "text/plain": [
       "['data/input-1622264519104.csv',\n",
       " 'data/input-1622350805158.csv',\n",
       " 'data/input-1622437205217.csv']"
      ]
     },
     "metadata": {},
     "output_type": "display_data"
    }
   ],
   "source": [
    "listOfDatasets = sorted(glob.glob('data/input-1*.csv'))\n",
    "display(listOfDatasets)\n",
    "display(listOfDatasets[:-1])\n"
   ]
  },
  {
   "cell_type": "code",
   "execution_count": 43,
   "id": "aacefedd",
   "metadata": {},
   "outputs": [],
   "source": [
    "len(df_merge)\n",
    "df_merge = df_merge.sort_values([\"id\", \"date\"], ascending = (True, False));"
   ]
  },
  {
   "cell_type": "code",
   "execution_count": 45,
   "id": "c0fe2ce5",
   "metadata": {},
   "outputs": [
    {
     "data": {
      "text/html": [
       "<div>\n",
       "<style scoped>\n",
       "    .dataframe tbody tr th:only-of-type {\n",
       "        vertical-align: middle;\n",
       "    }\n",
       "\n",
       "    .dataframe tbody tr th {\n",
       "        vertical-align: top;\n",
       "    }\n",
       "\n",
       "    .dataframe thead th {\n",
       "        text-align: right;\n",
       "    }\n",
       "</style>\n",
       "<table border=\"1\" class=\"dataframe\">\n",
       "  <thead>\n",
       "    <tr style=\"text-align: right;\">\n",
       "      <th></th>\n",
       "      <th>id</th>\n",
       "      <th>visitor</th>\n",
       "      <th>interest</th>\n",
       "      <th>contact</th>\n",
       "      <th>name</th>\n",
       "      <th>place_id</th>\n",
       "      <th>date</th>\n",
       "    </tr>\n",
       "  </thead>\n",
       "  <tbody>\n",
       "    <tr>\n",
       "      <th>0</th>\n",
       "      <td>0</td>\n",
       "      <td>1</td>\n",
       "      <td>0</td>\n",
       "      <td>6281329167890</td>\n",
       "      <td>RUMAH PRODUKSI BUMBU UMAY</td>\n",
       "      <td>ChIJSbe7edeRei4RNsJWmGkQBPI</td>\n",
       "      <td>29/5/2021 5:01</td>\n",
       "    </tr>\n",
       "    <tr>\n",
       "      <th>12</th>\n",
       "      <td>0</td>\n",
       "      <td>1</td>\n",
       "      <td>0</td>\n",
       "      <td>6281329167890</td>\n",
       "      <td>RUMAH PRODUKSI BUMBU UMAY</td>\n",
       "      <td>ChIJSbe7edeRei4RNsJWmGkQBPI</td>\n",
       "      <td>1/6/2021 5:00</td>\n",
       "    </tr>\n",
       "    <tr>\n",
       "      <th>1</th>\n",
       "      <td>1</td>\n",
       "      <td>1</td>\n",
       "      <td>0</td>\n",
       "      <td>6281542508821</td>\n",
       "      <td>Sirup Jahe Dewa</td>\n",
       "      <td>ChIJu1cJaGWPei4R2PH1rwpq4gg</td>\n",
       "      <td>29/5/2021 5:01</td>\n",
       "    </tr>\n",
       "    <tr>\n",
       "      <th>13</th>\n",
       "      <td>1</td>\n",
       "      <td>3</td>\n",
       "      <td>0</td>\n",
       "      <td>6281542508821</td>\n",
       "      <td>Sirup Jahe Dewa</td>\n",
       "      <td>ChIJu1cJaGWPei4R2PH1rwpq4gg</td>\n",
       "      <td>1/6/2021 5:00</td>\n",
       "    </tr>\n",
       "    <tr>\n",
       "      <th>2</th>\n",
       "      <td>2</td>\n",
       "      <td>1</td>\n",
       "      <td>0</td>\n",
       "      <td>6281329167890</td>\n",
       "      <td>Sambal Mbak Ririn</td>\n",
       "      <td>ChIJUUAuMWSFei4R0SORqr3pquU</td>\n",
       "      <td>29/5/2021 5:01</td>\n",
       "    </tr>\n",
       "    <tr>\n",
       "      <th>14</th>\n",
       "      <td>2</td>\n",
       "      <td>2</td>\n",
       "      <td>0</td>\n",
       "      <td>6281329167890</td>\n",
       "      <td>Sambal Mbak Ririn</td>\n",
       "      <td>ChIJUUAuMWSFei4R0SORqr3pquU</td>\n",
       "      <td>1/6/2021 5:00</td>\n",
       "    </tr>\n",
       "    <tr>\n",
       "      <th>3</th>\n",
       "      <td>3</td>\n",
       "      <td>1</td>\n",
       "      <td>0</td>\n",
       "      <td>6285796936649</td>\n",
       "      <td>Sambal Pawon Soendari Magelang</td>\n",
       "      <td>ChIJzZ8nRZCFei4RXmg0wdxJ23s</td>\n",
       "      <td>29/5/2021 5:01</td>\n",
       "    </tr>\n",
       "    <tr>\n",
       "      <th>15</th>\n",
       "      <td>3</td>\n",
       "      <td>3</td>\n",
       "      <td>0</td>\n",
       "      <td>6285796936649</td>\n",
       "      <td>Sambal Pawon Soendari Magelang</td>\n",
       "      <td>ChIJzZ8nRZCFei4RXmg0wdxJ23s</td>\n",
       "      <td>1/6/2021 5:00</td>\n",
       "    </tr>\n",
       "    <tr>\n",
       "      <th>4</th>\n",
       "      <td>4</td>\n",
       "      <td>1</td>\n",
       "      <td>0</td>\n",
       "      <td>6285868828975</td>\n",
       "      <td>Getuk Eco</td>\n",
       "      <td>ChIJe6ObOVyPei4Rr9PqdGqxtkE</td>\n",
       "      <td>29/5/2021 5:01</td>\n",
       "    </tr>\n",
       "    <tr>\n",
       "      <th>16</th>\n",
       "      <td>4</td>\n",
       "      <td>3</td>\n",
       "      <td>0</td>\n",
       "      <td>6285868828975</td>\n",
       "      <td>Getuk Eco</td>\n",
       "      <td>ChIJe6ObOVyPei4Rr9PqdGqxtkE</td>\n",
       "      <td>1/6/2021 5:00</td>\n",
       "    </tr>\n",
       "  </tbody>\n",
       "</table>\n",
       "</div>"
      ],
      "text/plain": [
       "    id  visitor  interest        contact                            name  \\\n",
       "0    0        1         0  6281329167890       RUMAH PRODUKSI BUMBU UMAY   \n",
       "12   0        1         0  6281329167890       RUMAH PRODUKSI BUMBU UMAY   \n",
       "1    1        1         0  6281542508821                 Sirup Jahe Dewa   \n",
       "13   1        3         0  6281542508821                 Sirup Jahe Dewa   \n",
       "2    2        1         0  6281329167890               Sambal Mbak Ririn   \n",
       "14   2        2         0  6281329167890               Sambal Mbak Ririn   \n",
       "3    3        1         0  6285796936649  Sambal Pawon Soendari Magelang   \n",
       "15   3        3         0  6285796936649  Sambal Pawon Soendari Magelang   \n",
       "4    4        1         0  6285868828975                       Getuk Eco   \n",
       "16   4        3         0  6285868828975                       Getuk Eco   \n",
       "\n",
       "                       place_id            date  \n",
       "0   ChIJSbe7edeRei4RNsJWmGkQBPI  29/5/2021 5:01  \n",
       "12  ChIJSbe7edeRei4RNsJWmGkQBPI   1/6/2021 5:00  \n",
       "1   ChIJu1cJaGWPei4R2PH1rwpq4gg  29/5/2021 5:01  \n",
       "13  ChIJu1cJaGWPei4R2PH1rwpq4gg   1/6/2021 5:00  \n",
       "2   ChIJUUAuMWSFei4R0SORqr3pquU  29/5/2021 5:01  \n",
       "14  ChIJUUAuMWSFei4R0SORqr3pquU   1/6/2021 5:00  \n",
       "3   ChIJzZ8nRZCFei4RXmg0wdxJ23s  29/5/2021 5:01  \n",
       "15  ChIJzZ8nRZCFei4RXmg0wdxJ23s   1/6/2021 5:00  \n",
       "4   ChIJe6ObOVyPei4Rr9PqdGqxtkE  29/5/2021 5:01  \n",
       "16  ChIJe6ObOVyPei4Rr9PqdGqxtkE   1/6/2021 5:00  "
      ]
     },
     "execution_count": 45,
     "metadata": {},
     "output_type": "execute_result"
    }
   ],
   "source": [
    "df_merge.head(10)"
   ]
  },
  {
   "cell_type": "code",
   "execution_count": 24,
   "id": "24802d3e",
   "metadata": {},
   "outputs": [],
   "source": [
    "df_merge.to_csv(\"data/input-raw.csv\", index=False)"
   ]
  },
  {
   "cell_type": "markdown",
   "id": "58eae936",
   "metadata": {},
   "source": [
    "### Kode Machine Learning\n",
    "> Masukan Kode ML dari cell ini"
   ]
  },
  {
   "cell_type": "code",
   "execution_count": null,
   "id": "c169375e",
   "metadata": {},
   "outputs": [],
   "source": []
  },
  {
   "cell_type": "code",
   "execution_count": null,
   "id": "91f5f7d1",
   "metadata": {},
   "outputs": [],
   "source": []
  },
  {
   "cell_type": "markdown",
   "id": "1bee7b95",
   "metadata": {},
   "source": [
    "### Upload file output\n",
    "File output diupload ke cloud storage\n",
    "\n",
    "#### Format file output: \n",
    "`output-latest.json` dan `output-[timestamp].json`, boleh juga kalau mau upload bentuk lainnya (misal HDF5 nya dll.)\n",
    "> Pastikan output **disimpan ke direktori data**"
   ]
  },
  {
   "cell_type": "code",
   "execution_count": 5,
   "id": "9b0ce610",
   "metadata": {},
   "outputs": [
    {
     "name": "stderr",
     "output_type": "stream",
     "text": [
      "Copying file://data/output-latest.json [Content-Type=application/json]...\n",
      "/ [1 files][  2.7 KiB/  2.7 KiB]                                                \n",
      "Operation completed over 1 objects/2.7 KiB.                                      \n"
     ]
    }
   ],
   "source": [
    "%%bash\n",
    "\n",
    "gsutil cp data/output* gs://$BUCKET_NAME/data/"
   ]
  },
  {
   "cell_type": "code",
   "execution_count": null,
   "id": "889cc5e0",
   "metadata": {},
   "outputs": [],
   "source": []
  }
 ],
 "metadata": {
  "environment": {
   "name": "tf2-gpu.2-5.m70",
   "type": "gcloud",
   "uri": "gcr.io/deeplearning-platform-release/tf2-gpu.2-5:m70"
  },
  "kernelspec": {
   "display_name": "Python 3",
   "language": "python",
   "name": "python3"
  },
  "language_info": {
   "codemirror_mode": {
    "name": "ipython",
    "version": 3
   },
   "file_extension": ".py",
   "mimetype": "text/x-python",
   "name": "python",
   "nbconvert_exporter": "python",
   "pygments_lexer": "ipython3",
   "version": "3.7.10"
  }
 },
 "nbformat": 4,
 "nbformat_minor": 5
}
