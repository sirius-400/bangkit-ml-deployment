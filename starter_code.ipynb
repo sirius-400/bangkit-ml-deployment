{
 "cells": [
  {
   "cell_type": "markdown",
   "id": "af00e22d",
   "metadata": {},
   "source": [
    "# Konfigurasi Awal\n",
    "Bagian konfigurasi awal untuk mendapatkan file input,\n",
    "## Download from google cloud storage\n",
    "Semua file input maupun output disimpan di cloud storage\n",
    "### Nama file\n",
    "file input: data/input-latest.csv\n",
    "file output: data/output-latest.json\n",
    "> Boleh juga jika modelnya ingin diexport\n",
    "#### File input dikoleksi setiap hari dengan format input-timestamp.csv"
   ]
  },
  {
   "cell_type": "code",
   "execution_count": 1,
   "id": "847319f4",
   "metadata": {},
   "outputs": [],
   "source": [
    "import os"
   ]
  },
  {
   "cell_type": "code",
   "execution_count": 2,
   "id": "9a0d1c99",
   "metadata": {},
   "outputs": [
    {
     "name": "stdout",
     "output_type": "stream",
     "text": [
      "Collecting python-dotenv\n",
      "  Downloading python_dotenv-0.17.1-py2.py3-none-any.whl (18 kB)\n",
      "Installing collected packages: python-dotenv\n",
      "Successfully installed python-dotenv-0.17.1\n"
     ]
    }
   ],
   "source": [
    "import sys\n",
    "!{sys.executable} -m pip install python-dotenv"
   ]
  },
  {
   "cell_type": "code",
   "execution_count": 4,
   "id": "a8417d9d",
   "metadata": {},
   "outputs": [],
   "source": [
    "from dotenv import load_dotenv\n",
    "\n",
    "load_dotenv() \n",
    "os.environ[\"TFVERSION\"] = \"2.3\"\n",
    "os.environ[\"PYTHONVERSION\"] = \"3.7\""
   ]
  },
  {
   "cell_type": "code",
   "execution_count": 5,
   "id": "3aafd8dc",
   "metadata": {},
   "outputs": [],
   "source": [
    "%%bash\n",
    "\n",
    "mkdir -p data\n",
    "gsutil -q -m cp gs://$BUCKET_NAME/data/input* data/"
   ]
  },
  {
   "cell_type": "markdown",
   "id": "774018a9",
   "metadata": {},
   "source": [
    "### Kode Machine Learning\n",
    "> Masukan Kode ML dari cell ini"
   ]
  },
  {
   "cell_type": "code",
   "execution_count": null,
   "id": "f3140366",
   "metadata": {},
   "outputs": [],
   "source": []
  },
  {
   "cell_type": "code",
   "execution_count": null,
   "id": "78d33ea1",
   "metadata": {},
   "outputs": [],
   "source": []
  },
  {
   "cell_type": "markdown",
   "id": "5377b9f6",
   "metadata": {},
   "source": [
    "### Upload file output\n",
    "File output diupload ke cloud storage\n",
    "\n",
    "#### Format file output: \n",
    "`output-latest.json` dan `output-[timestamp].json`, boleh juga kalau mau upload bentuk lainnya (misal HDF5 nya dll.)\n",
    "> Pastikan output **disimpan ke direktori data**"
   ]
  },
  {
   "cell_type": "code",
   "execution_count": 16,
   "id": "9ab92e85",
   "metadata": {},
   "outputs": [
    {
     "name": "stderr",
     "output_type": "stream",
     "text": [
      "Copying file://data/output-10984021.json [Content-Type=application/json]...\n",
      "Copying file://data/output-120380.json [Content-Type=application/json]...       \n",
      "Copying file://data/output.json [Content-Type=application/json]...              \n",
      "/ [3 files][  3.0 KiB/  3.0 KiB]                                                \n",
      "Operation completed over 3 objects/3.0 KiB.                                      \n"
     ]
    }
   ],
   "source": [
    "%%bash\n",
    "\n",
    "gsutil cp data/output* gs://$BUCKET_NAME/data/"
   ]
  },
  {
   "cell_type": "code",
   "execution_count": null,
   "id": "e70c311e",
   "metadata": {},
   "outputs": [],
   "source": []
  }
 ],
 "metadata": {
  "environment": {
   "name": "tf2-gpu.2-3.m69",
   "type": "gcloud",
   "uri": "gcr.io/deeplearning-platform-release/tf2-gpu.2-3:m69"
  },
  "kernelspec": {
   "display_name": "Python 3",
   "language": "python",
   "name": "python3"
  },
  "language_info": {
   "codemirror_mode": {
    "name": "ipython",
    "version": 3
   },
   "file_extension": ".py",
   "mimetype": "text/x-python",
   "name": "python",
   "nbconvert_exporter": "python",
   "pygments_lexer": "ipython3",
   "version": "3.7.10"
  }
 },
 "nbformat": 4,
 "nbformat_minor": 5
}
